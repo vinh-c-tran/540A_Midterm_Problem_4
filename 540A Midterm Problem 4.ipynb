{
 "cells": [
  {
   "cell_type": "markdown",
   "id": "da0fead9",
   "metadata": {},
   "source": [
    "# Problem 4\n",
    "Showing that the determinant of the electromagnetic field tensor $F_{\\mu\\nu}$ is proportional to $(\\vec{E}\\cdot\\vec{B})^2$ using the 4-dimensional Levi Civita symbol where\n",
    "$$\n",
    "    \\det F \\epsilon_{j_1... j_4} = \\sum_{i_1 ... i_4} \\epsilon_{i_1 ... i_4}F_{i_1j_1}... F_{i_4j_4}\n",
    "$$"
   ]
  },
  {
   "cell_type": "markdown",
   "id": "bfb2091a",
   "metadata": {},
   "source": [
    "## Step 1: Finding all permutations of 0123\n",
    "We begin by writing down all the possible permutations of 0123 with the goal of then reducing these to only the ones that contribute to the sum "
   ]
  },
  {
   "cell_type": "code",
   "execution_count": 1,
   "id": "64732402",
   "metadata": {},
   "outputs": [],
   "source": [
    "from itertools import permutations"
   ]
  },
  {
   "cell_type": "code",
   "execution_count": 2,
   "id": "45113087",
   "metadata": {},
   "outputs": [],
   "source": [
    "perm = permutations([0,1,2,3])"
   ]
  },
  {
   "cell_type": "markdown",
   "id": "425ead04",
   "metadata": {},
   "source": [
    "### Storing permutations in a list"
   ]
  },
  {
   "cell_type": "code",
   "execution_count": 3,
   "id": "add2810f",
   "metadata": {},
   "outputs": [],
   "source": [
    "perm_list = [] \n",
    "for item in list(perm):\n",
    "    perm_list.append(item)"
   ]
  },
  {
   "cell_type": "code",
   "execution_count": 4,
   "id": "3acde458",
   "metadata": {},
   "outputs": [
    {
     "data": {
      "text/plain": [
       "[(0, 1, 2, 3),\n",
       " (0, 1, 3, 2),\n",
       " (0, 2, 1, 3),\n",
       " (0, 2, 3, 1),\n",
       " (0, 3, 1, 2),\n",
       " (0, 3, 2, 1),\n",
       " (1, 0, 2, 3),\n",
       " (1, 0, 3, 2),\n",
       " (1, 2, 0, 3),\n",
       " (1, 2, 3, 0),\n",
       " (1, 3, 0, 2),\n",
       " (1, 3, 2, 0),\n",
       " (2, 0, 1, 3),\n",
       " (2, 0, 3, 1),\n",
       " (2, 1, 0, 3),\n",
       " (2, 1, 3, 0),\n",
       " (2, 3, 0, 1),\n",
       " (2, 3, 1, 0),\n",
       " (3, 0, 1, 2),\n",
       " (3, 0, 2, 1),\n",
       " (3, 1, 0, 2),\n",
       " (3, 1, 2, 0),\n",
       " (3, 2, 0, 1),\n",
       " (3, 2, 1, 0)]"
      ]
     },
     "execution_count": 4,
     "metadata": {},
     "output_type": "execute_result"
    }
   ],
   "source": [
    "# all 24 permutations\n",
    "perm_list"
   ]
  },
  {
   "cell_type": "markdown",
   "id": "4a692da1",
   "metadata": {},
   "source": [
    "## Step 2: Remove ones that would yield zero\n",
    "The ones that start with 0, have second element be 1, third element be 2, and fourth element be 3, wouldn't contribute to the sum since it would correspond to diagonal $F$ matrix elements which are zero. That is, we want to remove the ones that look like\n",
    "$$\n",
    "    \\epsilon_{0jkl} \\qquad \\epsilon_{i1kl} \\qquad \\epsilon_{ij2l} \\qquad \\epsilon_{ijk3}\n",
    "$$"
   ]
  },
  {
   "cell_type": "code",
   "execution_count": 5,
   "id": "5fc2f1f3",
   "metadata": {},
   "outputs": [],
   "source": [
    "perm_list = [x for x in perm_list if not x[0] == 0]\n",
    "perm_list = [x for x in perm_list if not x[1] == 1]\n",
    "perm_list = [x for x in perm_list if not x[2] == 2]\n",
    "perm_list = [x for x in perm_list if not x[3] == 3]"
   ]
  },
  {
   "cell_type": "code",
   "execution_count": 6,
   "id": "ac1b94f4",
   "metadata": {},
   "outputs": [
    {
     "data": {
      "text/plain": [
       "[(1, 0, 3, 2),\n",
       " (1, 2, 3, 0),\n",
       " (1, 3, 0, 2),\n",
       " (2, 0, 3, 1),\n",
       " (2, 3, 0, 1),\n",
       " (2, 3, 1, 0),\n",
       " (3, 0, 1, 2),\n",
       " (3, 2, 0, 1),\n",
       " (3, 2, 1, 0)]"
      ]
     },
     "execution_count": 6,
     "metadata": {},
     "output_type": "execute_result"
    }
   ],
   "source": [
    "perm_list"
   ]
  },
  {
   "cell_type": "markdown",
   "id": "defe7ec7",
   "metadata": {},
   "source": [
    "## Step 3: Symbolic Manipulation\n",
    "Use `sympy` to write symbolic expressions for the various components of the electric and magnetic fields and construct the electromagnetic field tensor $F$\n",
    "$$\n",
    "    F = \\begin{pmatrix}\n",
    "    0 &-E_x &-E_y &-E_z\\\\\n",
    "    E_x &0 &-B_z &B_y\\\\\n",
    "    E_y &B_z &0 &-B_x\\\\\n",
    "    E_z &-B_y &B_x &0\n",
    "    \\end{pmatrix} \n",
    "$$"
   ]
  },
  {
   "cell_type": "markdown",
   "id": "89c6d8e6",
   "metadata": {},
   "source": [
    "#### Import `sympy` a python library for symbolic calculations"
   ]
  },
  {
   "cell_type": "code",
   "execution_count": 7,
   "id": "8b331ace",
   "metadata": {},
   "outputs": [],
   "source": [
    "import sympy as sym"
   ]
  },
  {
   "cell_type": "markdown",
   "id": "778df6f9",
   "metadata": {},
   "source": [
    "#### Declare symbolic symbol variables "
   ]
  },
  {
   "cell_type": "code",
   "execution_count": 8,
   "id": "87a22310",
   "metadata": {},
   "outputs": [],
   "source": [
    "Ex, Ey, Ez, Bx, By, Bz = sym.symbols('E_x, E_y, E_z, B_x, B_y, B_z')"
   ]
  },
  {
   "cell_type": "markdown",
   "id": "ac90bd97",
   "metadata": {},
   "source": [
    "#### Construct F"
   ]
  },
  {
   "cell_type": "code",
   "execution_count": 9,
   "id": "4cc2499c",
   "metadata": {},
   "outputs": [],
   "source": [
    "F = [[0, -Ex, -Ey, -Ez], [Ex, 0, -Bz, By], [Ey, Bz, 0, -Bx], [Ez, -By, Bx, 0]]"
   ]
  },
  {
   "cell_type": "markdown",
   "id": "0d1fcdcc",
   "metadata": {},
   "source": [
    "## Step 4: Next write a function that takes in a symbol and returns the combination of $F$ matrix elements \n",
    "Notice that in our sum we have terms of the form \n",
    "$$\n",
    "    \\epsilon_{ijkl}F_{0i}F_{1j}F_{2k}F_{3l}\n",
    "$$\n",
    "For a specific $ijkl$ we would like a function that returns the corresponding $F_{0i}F_{1j}F_{2k}F_{3l}$. "
   ]
  },
  {
   "cell_type": "code",
   "execution_count": 10,
   "id": "6e79c8a9",
   "metadata": {},
   "outputs": [],
   "source": [
    "def F_matrix_combination(symbol, matrix):\n",
    "    \"\"\" takes a levi-civita symbol permutation\n",
    "        and returns corresponding combination of F_matrix \n",
    "        ex. input: epsilon_{1234} -> return: F_{11}F_{22}F_{33}F_{44}\n",
    "    \"\"\"\n",
    "    product = 1\n",
    "    for i in range(4):\n",
    "        index = symbol[i]\n",
    "        product = product * matrix[i][index]\n",
    "    return product "
   ]
  },
  {
   "cell_type": "code",
   "execution_count": 11,
   "id": "867a2015",
   "metadata": {
    "scrolled": true
   },
   "outputs": [
    {
     "data": {
      "text/latex": [
       "$\\displaystyle - B_{x} B_{y} E_{x} E_{y}$"
      ],
      "text/plain": [
       "-B_x*B_y*E_x*E_y"
      ]
     },
     "execution_count": 11,
     "metadata": {},
     "output_type": "execute_result"
    }
   ],
   "source": [
    "F_matrix_combination(perm_list[2], F)"
   ]
  },
  {
   "cell_type": "markdown",
   "id": "65b239a0",
   "metadata": {},
   "source": [
    "## Step 5: Calculate determinant \n",
    "We're almost there! Before we can write down the determinant, we need a function that checks for the parity of the given permutation and returns +1 for even permutations and -1 for odd permutations. This function below does this. "
   ]
  },
  {
   "cell_type": "code",
   "execution_count": 14,
   "id": "bf8c505d",
   "metadata": {},
   "outputs": [],
   "source": [
    "def parity(p):\n",
    "    \"\"\" \n",
    "        checks parity of permutation \n",
    "        - returns true for even parity \n",
    "        - returns false for odd parity \n",
    "    \"\"\"\n",
    "    boolean = sum(\n",
    "        1 for (x,px) in enumerate(p)\n",
    "          for (y,py) in enumerate(p)\n",
    "          if x<y and px>py\n",
    "        )%2==0\n",
    "    \n",
    "    if boolean == True:\n",
    "        return 1 \n",
    "    else:\n",
    "        return -1 "
   ]
  },
  {
   "cell_type": "markdown",
   "id": "7d5d298a",
   "metadata": {},
   "source": [
    "### Defining the determinant function\n",
    "1. Note that this only works for the very limited case of our electromagnetic field tensor  "
   ]
  },
  {
   "cell_type": "code",
   "execution_count": 15,
   "id": "8d5958ac",
   "metadata": {},
   "outputs": [],
   "source": [
    "def determinant(symbol_list, matrix):\n",
    "    \"\"\" calculates determinant for this very specific case \"\"\"\n",
    "    summation = 0\n",
    "    for symbol in symbol_list:\n",
    "        summation += parity(symbol)*F_matrix_combination(symbol, matrix)\n",
    "    return summation "
   ]
  },
  {
   "cell_type": "code",
   "execution_count": 16,
   "id": "edbaeaf9",
   "metadata": {},
   "outputs": [
    {
     "data": {
      "text/latex": [
       "$\\displaystyle B_{x}^{2} E_{x}^{2} + 2 B_{x} B_{y} E_{x} E_{y} + 2 B_{x} B_{z} E_{x} E_{z} + B_{y}^{2} E_{y}^{2} + 2 B_{y} B_{z} E_{y} E_{z} + B_{z}^{2} E_{z}^{2}$"
      ],
      "text/plain": [
       "B_x**2*E_x**2 + 2*B_x*B_y*E_x*E_y + 2*B_x*B_z*E_x*E_z + B_y**2*E_y**2 + 2*B_y*B_z*E_y*E_z + B_z**2*E_z**2"
      ]
     },
     "execution_count": 16,
     "metadata": {},
     "output_type": "execute_result"
    }
   ],
   "source": [
    "determinant(perm_list, F)"
   ]
  },
  {
   "cell_type": "markdown",
   "id": "f8e15014",
   "metadata": {},
   "source": [
    "### Verifying \n",
    "Checking to see if our result matches. Remember, we want to get that this is proportional to \n",
    "$$\n",
    "    (\\vec{E}\\cdot\\vec{B})^2 \n",
    "$$"
   ]
  },
  {
   "cell_type": "code",
   "execution_count": 17,
   "id": "756958e2",
   "metadata": {},
   "outputs": [],
   "source": [
    "E = [Ex, Ey, Ez]\n",
    "B = [Bx, By, Bz]"
   ]
  },
  {
   "cell_type": "code",
   "execution_count": 18,
   "id": "44da78cf",
   "metadata": {},
   "outputs": [
    {
     "data": {
      "text/latex": [
       "$\\displaystyle B_{x}^{2} E_{x}^{2} + 2 B_{x} B_{y} E_{x} E_{y} + 2 B_{x} B_{z} E_{x} E_{z} + B_{y}^{2} E_{y}^{2} + 2 B_{y} B_{z} E_{y} E_{z} + B_{z}^{2} E_{z}^{2}$"
      ],
      "text/plain": [
       "B_x**2*E_x**2 + 2*B_x*B_y*E_x*E_y + 2*B_x*B_z*E_x*E_z + B_y**2*E_y**2 + 2*B_y*B_z*E_y*E_z + B_z**2*E_z**2"
      ]
     },
     "execution_count": 18,
     "metadata": {},
     "output_type": "execute_result"
    }
   ],
   "source": [
    "import numpy as np \n",
    "sym.expand(np.dot(E,B)**2)"
   ]
  },
  {
   "cell_type": "markdown",
   "id": "77514b6e",
   "metadata": {},
   "source": [
    "### Extra bit:\n",
    "1. We can take this `sympy` output and have it printed in LaTeX which is very useful for copying and pasting for writing up stuff lol"
   ]
  },
  {
   "cell_type": "code",
   "execution_count": 21,
   "id": "4c9537d0",
   "metadata": {},
   "outputs": [
    {
     "name": "stdout",
     "output_type": "stream",
     "text": [
      "B_{x}^{2} E_{x}^{2} + 2 B_{x} B_{y} E_{x} E_{y} + 2 B_{x} B_{z} E_{x} E_{z} + B_{y}^{2} E_{y}^{2} + 2 B_{y} B_{z} E_{y} E_{z} + B_{z}^{2} E_{z}^{2}\n"
     ]
    }
   ],
   "source": [
    "from sympy import print_latex\n",
    "print_latex(sym.expand(np.dot(E,B)**2))"
   ]
  },
  {
   "cell_type": "code",
   "execution_count": null,
   "id": "967c553a",
   "metadata": {},
   "outputs": [],
   "source": []
  }
 ],
 "metadata": {
  "kernelspec": {
   "display_name": "Python 3 (ipykernel)",
   "language": "python",
   "name": "python3"
  },
  "language_info": {
   "codemirror_mode": {
    "name": "ipython",
    "version": 3
   },
   "file_extension": ".py",
   "mimetype": "text/x-python",
   "name": "python",
   "nbconvert_exporter": "python",
   "pygments_lexer": "ipython3",
   "version": "3.9.7"
  }
 },
 "nbformat": 4,
 "nbformat_minor": 5
}
